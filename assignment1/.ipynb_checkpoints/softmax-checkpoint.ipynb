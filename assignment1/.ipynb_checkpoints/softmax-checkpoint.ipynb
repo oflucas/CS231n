{
 "cells": [
  {
   "cell_type": "markdown",
   "metadata": {},
   "source": [
    "# Softmax exercise\n",
    "\n",
    "*Complete and hand in this completed worksheet (including its outputs and any supporting code outside of the worksheet) with your assignment submission. For more details see the [assignments page](http://vision.stanford.edu/teaching/cs231n/assignments.html) on the course website.*\n",
    "\n",
    "This exercise is analogous to the SVM exercise. You will:\n",
    "\n",
    "- implement a fully-vectorized **loss function** for the Softmax classifier\n",
    "- implement the fully-vectorized expression for its **analytic gradient**\n",
    "- **check your implementation** with numerical gradient\n",
    "- use a validation set to **tune the learning rate and regularization** strength\n",
    "- **optimize** the loss function with **SGD**\n",
    "- **visualize** the final learned weights\n"
   ]
  },
  {
   "cell_type": "code",
   "execution_count": 1,
   "metadata": {
    "collapsed": false
   },
   "outputs": [],
   "source": [
    "import random\n",
    "import numpy as np\n",
    "from cs231n.data_utils import load_CIFAR10\n",
    "import matplotlib.pyplot as plt\n",
    "%matplotlib inline\n",
    "plt.rcParams['figure.figsize'] = (10.0, 8.0) # set default size of plots\n",
    "plt.rcParams['image.interpolation'] = 'nearest'\n",
    "plt.rcParams['image.cmap'] = 'gray'\n",
    "\n",
    "# for auto-reloading extenrnal modules\n",
    "# see http://stackoverflow.com/questions/1907993/autoreload-of-modules-in-ipython\n",
    "%load_ext autoreload\n",
    "%autoreload 2"
   ]
  },
  {
   "cell_type": "code",
   "execution_count": 2,
   "metadata": {
    "collapsed": false
   },
   "outputs": [
    {
     "name": "stdout",
     "output_type": "stream",
     "text": [
      "Train data shape:  (49000, 3073)\n",
      "Train labels shape:  (49000,)\n",
      "Validation data shape:  (1000, 3073)\n",
      "Validation labels shape:  (1000,)\n",
      "Test data shape:  (1000, 3073)\n",
      "Test labels shape:  (1000,)\n",
      "dev data shape:  (500, 3073)\n",
      "dev labels shape:  (500,)\n"
     ]
    }
   ],
   "source": [
    "def get_CIFAR10_data(num_training=49000, num_validation=1000, num_test=1000, num_dev=500):\n",
    "  \"\"\"\n",
    "  Load the CIFAR-10 dataset from disk and perform preprocessing to prepare\n",
    "  it for the linear classifier. These are the same steps as we used for the\n",
    "  SVM, but condensed to a single function.  \n",
    "  \"\"\"\n",
    "  # Load the raw CIFAR-10 data\n",
    "  cifar10_dir = 'cs231n/datasets/cifar-10-batches-py'\n",
    "  X_train, y_train, X_test, y_test = load_CIFAR10(cifar10_dir)\n",
    "  \n",
    "  # subsample the data\n",
    "  mask = range(num_training, num_training + num_validation)\n",
    "  X_val = X_train[mask]\n",
    "  y_val = y_train[mask]\n",
    "  mask = range(num_training)\n",
    "  X_train = X_train[mask]\n",
    "  y_train = y_train[mask]\n",
    "  mask = range(num_test)\n",
    "  X_test = X_test[mask]\n",
    "  y_test = y_test[mask]\n",
    "  mask = np.random.choice(num_training, num_dev, replace=False)\n",
    "  X_dev = X_train[mask]\n",
    "  y_dev = y_train[mask]\n",
    "  \n",
    "  # Preprocessing: reshape the image data into rows\n",
    "  X_train = np.reshape(X_train, (X_train.shape[0], -1))\n",
    "  X_val = np.reshape(X_val, (X_val.shape[0], -1))\n",
    "  X_test = np.reshape(X_test, (X_test.shape[0], -1))\n",
    "  X_dev = np.reshape(X_dev, (X_dev.shape[0], -1))\n",
    "  \n",
    "  # Normalize the data: subtract the mean image\n",
    "  mean_image = np.mean(X_train, axis = 0)\n",
    "  X_train -= mean_image\n",
    "  X_val -= mean_image\n",
    "  X_test -= mean_image\n",
    "  X_dev -= mean_image\n",
    "  \n",
    "  # add bias dimension and transform into columns\n",
    "  X_train = np.hstack([X_train, np.ones((X_train.shape[0], 1))])\n",
    "  X_val = np.hstack([X_val, np.ones((X_val.shape[0], 1))])\n",
    "  X_test = np.hstack([X_test, np.ones((X_test.shape[0], 1))])\n",
    "  X_dev = np.hstack([X_dev, np.ones((X_dev.shape[0], 1))])\n",
    "  \n",
    "  return X_train, y_train, X_val, y_val, X_test, y_test, X_dev, y_dev\n",
    "\n",
    "\n",
    "# Invoke the above function to get our data.\n",
    "X_train, y_train, X_val, y_val, X_test, y_test, X_dev, y_dev = get_CIFAR10_data()\n",
    "print 'Train data shape: ', X_train.shape\n",
    "print 'Train labels shape: ', y_train.shape\n",
    "print 'Validation data shape: ', X_val.shape\n",
    "print 'Validation labels shape: ', y_val.shape\n",
    "print 'Test data shape: ', X_test.shape\n",
    "print 'Test labels shape: ', y_test.shape\n",
    "print 'dev data shape: ', X_dev.shape\n",
    "print 'dev labels shape: ', y_dev.shape"
   ]
  },
  {
   "cell_type": "markdown",
   "metadata": {},
   "source": [
    "## Softmax Classifier\n",
    "\n",
    "Your code for this section will all be written inside **cs231n/classifiers/softmax.py**. \n"
   ]
  },
  {
   "cell_type": "code",
   "execution_count": 3,
   "metadata": {
    "collapsed": false
   },
   "outputs": [
    {
     "data": {
      "text/plain": [
       "array([[ 1.,  6.,  4.,  4.],\n",
       "       [ 9.,  2.,  5.,  1.],\n",
       "       [ 5.,  3.,  7.,  1.]])"
      ]
     },
     "execution_count": 3,
     "metadata": {},
     "output_type": "execute_result"
    }
   ],
   "source": [
    "x = np.array([[1,6,4.,4],[9,2,5,1],[5,3,7,1]])\n",
    "x"
   ]
  },
  {
   "cell_type": "code",
   "execution_count": 4,
   "metadata": {
    "collapsed": false
   },
   "outputs": [
    {
     "name": "stdout",
     "output_type": "stream",
     "text": [
      "loss: 2.358218\n",
      "sanity check: 2.302585\n"
     ]
    }
   ],
   "source": [
    "# First implement the naive softmax loss function with nested loops.\n",
    "# Open the file cs231n/classifiers/softmax.py and implement the\n",
    "# softmax_loss_naive function.\n",
    "\n",
    "from cs231n.classifiers.softmax import softmax_loss_naive\n",
    "import time\n",
    "\n",
    "# Generate a random softmax weight matrix and use it to compute the loss.\n",
    "W = np.random.randn(3073, 10) * 0.0001\n",
    "loss, grad = softmax_loss_naive(W, X_dev, y_dev, 0.0)\n",
    "\n",
    "# As a rough sanity check, our loss should be something close to -log(0.1).\n",
    "print 'loss: %f' % loss\n",
    "print 'sanity check: %f' % (-np.log(0.1))"
   ]
  },
  {
   "cell_type": "markdown",
   "metadata": {},
   "source": [
    "## Inline Question 1:\n",
    "Why do we expect our loss to be close to -log(0.1)? Explain briefly.**\n",
    "\n",
    "**Your answer:** *10 classes. each get equal score => each prob = 0.1. loss = -log(0.1)*\n"
   ]
  },
  {
   "cell_type": "code",
   "execution_count": 5,
   "metadata": {
    "collapsed": false
   },
   "outputs": [
    {
     "name": "stdout",
     "output_type": "stream",
     "text": [
      "numerical: -2.021891 analytic: -2.021891, relative error: 5.025764e-08\n",
      "numerical: 2.721189 analytic: 2.721189, relative error: 1.572694e-09\n",
      "numerical: 1.244415 analytic: 1.244415, relative error: 1.616982e-08\n",
      "numerical: -0.598313 analytic: -0.598313, relative error: 9.940136e-08\n",
      "numerical: 2.218907 analytic: 2.218907, relative error: 2.474654e-08\n",
      "numerical: 1.059774 analytic: 1.059774, relative error: 2.269119e-08\n",
      "numerical: 0.415170 analytic: 0.415170, relative error: 1.681786e-07\n",
      "numerical: 3.120548 analytic: 3.120548, relative error: 1.567836e-08\n",
      "numerical: -2.259938 analytic: -2.259938, relative error: 3.750657e-08\n",
      "numerical: -1.929748 analytic: -1.929748, relative error: 8.375774e-09\n",
      "numerical: 2.862065 analytic: 2.862065, relative error: 2.032612e-08\n",
      "numerical: 1.761732 analytic: 1.761732, relative error: 4.081777e-08\n",
      "numerical: 5.252553 analytic: 5.252553, relative error: 9.595298e-09\n",
      "numerical: -1.233345 analytic: -1.233345, relative error: 3.165550e-09\n",
      "numerical: 1.612427 analytic: 1.612427, relative error: 2.902956e-08\n",
      "numerical: 1.042241 analytic: 1.042241, relative error: 1.348724e-08\n",
      "numerical: -1.164105 analytic: -1.164105, relative error: 3.652429e-08\n",
      "numerical: 0.598688 analytic: 0.598688, relative error: 3.617100e-08\n",
      "numerical: -1.761485 analytic: -1.761485, relative error: 1.662540e-08\n",
      "numerical: 1.414135 analytic: 1.414135, relative error: 7.245027e-09\n"
     ]
    }
   ],
   "source": [
    "# Complete the implementation of softmax_loss_naive and implement a (naive)\n",
    "# version of the gradient that uses nested loops.\n",
    "loss, grad = softmax_loss_naive(W, X_dev, y_dev, 0.0)\n",
    "\n",
    "# As we did for the SVM, use numeric gradient checking as a debugging tool.\n",
    "# The numeric gradient should be close to the analytic gradient.\n",
    "from cs231n.gradient_check import grad_check_sparse\n",
    "f = lambda w: softmax_loss_naive(w, X_dev, y_dev, 0.0)[0]\n",
    "grad_numerical = grad_check_sparse(f, W, grad, 10)\n",
    "\n",
    "# similar to SVM case, do another gradient check with regularization\n",
    "loss, grad = softmax_loss_naive(W, X_dev, y_dev, 1e2)\n",
    "f = lambda w: softmax_loss_naive(w, X_dev, y_dev, 1e2)[0]\n",
    "grad_numerical = grad_check_sparse(f, W, grad, 10)"
   ]
  },
  {
   "cell_type": "code",
   "execution_count": 6,
   "metadata": {
    "collapsed": false
   },
   "outputs": [
    {
     "name": "stdout",
     "output_type": "stream",
     "text": [
      "naive loss: 2.358218e+00 computed in 0.062396s\n",
      "vectorized loss: 2.358218e+00 computed in 0.004571s\n",
      "Loss difference: 0.000000\n",
      "Gradient difference: 0.000000\n"
     ]
    }
   ],
   "source": [
    "# Now that we have a naive implementation of the softmax loss function and its gradient,\n",
    "# implement a vectorized version in softmax_loss_vectorized.\n",
    "# The two versions should compute the same results, but the vectorized version should be\n",
    "# much faster.\n",
    "tic = time.time()\n",
    "loss_naive, grad_naive = softmax_loss_naive(W, X_dev, y_dev, 0.00001)\n",
    "toc = time.time()\n",
    "print 'naive loss: %e computed in %fs' % (loss_naive, toc - tic)\n",
    "\n",
    "from cs231n.classifiers.softmax import softmax_loss_vectorized\n",
    "tic = time.time()\n",
    "loss_vectorized, grad_vectorized = softmax_loss_vectorized(W, X_dev, y_dev, 0.00001)\n",
    "toc = time.time()\n",
    "print 'vectorized loss: %e computed in %fs' % (loss_vectorized, toc - tic)\n",
    "\n",
    "# As we did for the SVM, we use the Frobenius norm to compare the two versions\n",
    "# of the gradient.\n",
    "grad_difference = np.linalg.norm(grad_naive - grad_vectorized, ord='fro')\n",
    "print 'Loss difference: %f' % np.abs(loss_naive - loss_vectorized)\n",
    "print 'Gradient difference: %f' % grad_difference"
   ]
  },
  {
   "cell_type": "code",
   "execution_count": 8,
   "metadata": {
    "collapsed": false
   },
   "outputs": [
    {
     "name": "stdout",
     "output_type": "stream",
     "text": [
      "iteration 0 / 1500: loss 758.595223\n",
      "iteration 100 / 1500: loss 278.216053\n",
      "iteration 200 / 1500: loss 103.003833\n",
      "iteration 300 / 1500: loss 38.974754\n",
      "iteration 400 / 1500: loss 15.563683\n",
      "iteration 500 / 1500: loss 6.942361\n",
      "iteration 600 / 1500: loss 3.814160\n",
      "iteration 700 / 1500: loss 2.614620\n",
      "iteration 800 / 1500: loss 2.221348\n",
      "iteration 900 / 1500: loss 2.091115\n",
      "iteration 1000 / 1500: loss 1.997050\n",
      "iteration 1100 / 1500: loss 2.004721\n",
      "iteration 1200 / 1500: loss 1.982368\n",
      "iteration 1300 / 1500: loss 1.983098\n",
      "iteration 1400 / 1500: loss 2.007060\n",
      "0.458\n"
     ]
    }
   ],
   "source": [
    "from cs231n.classifiers import softmax_predict\n",
    "from cs231n.classifiers import Softmax\n",
    "sm = Softmax()\n",
    "loss_hist = sm.train(X_dev, y_dev, learning_rate=1e-7, reg=5e4, num_iters=1500, verbose=True)\n",
    "acc_tr = np.mean(sm.predict(X_dev) == y_dev)\n",
    "print acc_tr"
   ]
  },
  {
   "cell_type": "code",
   "execution_count": 9,
   "metadata": {
    "collapsed": false
   },
   "outputs": [
    {
     "name": "stdout",
     "output_type": "stream",
     "text": [
      "(9.9999999999999995e-08, 49999.999999999993) (0.32926530612244898, 0.34200000000000003)\n",
      "(9.9999999999999995e-08, 334370.152488211) (0.2755918367346939, 0.28199999999999997)\n",
      "(9.9999999999999995e-08, 2236067.9774997896) (0.23538775510204082, 0.246)\n",
      "(9.9999999999999995e-08, 14953487.812212205) (0.23187755102040816, 0.23300000000000001)\n"
     ]
    },
    {
     "name": "stderr",
     "output_type": "stream",
     "text": [
      "cs231n/classifiers/softmax.py:79: RuntimeWarning: overflow encountered in exp\n",
      "  es = np.exp(X.dot(W)) # exp(scores) (N,C)\n",
      "cs231n/classifiers/softmax.py:80: RuntimeWarning: invalid value encountered in divide\n",
      "  es /= np.sum(es, axis=1)[:, np.newaxis] # es = probilities now\n",
      "cs231n/classifiers/softmax.py:81: RuntimeWarning: divide by zero encountered in log\n",
      "  loss = -np.sum(np.log(es[each_row, y]))\n"
     ]
    },
    {
     "name": "stdout",
     "output_type": "stream",
     "text": [
      "(9.9999999999999995e-08, 100000000.0) (0.10026530612244898, 0.086999999999999994)\n",
      "(4.728708045015879e-07, 49999.999999999993) (0.31816326530612243, 0.34100000000000003)\n",
      "(4.728708045015879e-07, 334370.152488211) (0.25697959183673469, 0.27500000000000002)\n",
      "(4.728708045015879e-07, 2236067.9774997896) (0.2076326530612245, 0.20100000000000001)\n",
      "(4.728708045015879e-07, 14953487.812212205) (0.10026530612244898, 0.086999999999999994)\n",
      "(4.728708045015879e-07, 100000000.0) (0.10026530612244898, 0.086999999999999994)\n",
      "(2.2360679774997895e-06, 49999.999999999993) (0.30091836734693878, 0.29499999999999998)\n",
      "(2.2360679774997895e-06, 334370.152488211) (0.22906122448979591, 0.25800000000000001)\n",
      "(2.2360679774997895e-06, 2236067.9774997896) (0.10026530612244898, 0.086999999999999994)\n",
      "(2.2360679774997895e-06, 14953487.812212205) (0.10026530612244898, 0.086999999999999994)\n",
      "(2.2360679774997895e-06, 100000000.0) (0.10026530612244898, 0.086999999999999994)\n",
      "(1.0573712634405641e-05, 49999.999999999993) (0.12657142857142858, 0.11799999999999999)\n",
      "(1.0573712634405641e-05, 334370.152488211) (0.10026530612244898, 0.086999999999999994)\n",
      "(1.0573712634405641e-05, 2236067.9774997896) (0.10026530612244898, 0.086999999999999994)\n",
      "(1.0573712634405641e-05, 14953487.812212205) (0.10026530612244898, 0.086999999999999994)\n",
      "(1.0573712634405641e-05, 100000000.0) (0.10026530612244898, 0.086999999999999994)\n",
      "(4.9999999999999996e-05, 49999.999999999993) (0.10026530612244898, 0.086999999999999994)\n",
      "(4.9999999999999996e-05, 334370.152488211) (0.10026530612244898, 0.086999999999999994)\n",
      "(4.9999999999999996e-05, 2236067.9774997896) (0.10026530612244898, 0.086999999999999994)\n",
      "(4.9999999999999996e-05, 14953487.812212205) (0.10026530612244898, 0.086999999999999994)\n",
      "(4.9999999999999996e-05, 100000000.0) (0.10026530612244898, 0.086999999999999994)\n",
      "lr 1.000000e-07 reg 5.000000e+04 train accuracy: 0.329265 val accuracy: 0.342000\n",
      "lr 1.000000e-07 reg 3.343702e+05 train accuracy: 0.275592 val accuracy: 0.282000\n",
      "lr 1.000000e-07 reg 2.236068e+06 train accuracy: 0.235388 val accuracy: 0.246000\n",
      "lr 1.000000e-07 reg 1.495349e+07 train accuracy: 0.231878 val accuracy: 0.233000\n",
      "lr 1.000000e-07 reg 1.000000e+08 train accuracy: 0.100265 val accuracy: 0.087000\n",
      "lr 4.728708e-07 reg 5.000000e+04 train accuracy: 0.318163 val accuracy: 0.341000\n",
      "lr 4.728708e-07 reg 3.343702e+05 train accuracy: 0.256980 val accuracy: 0.275000\n",
      "lr 4.728708e-07 reg 2.236068e+06 train accuracy: 0.207633 val accuracy: 0.201000\n",
      "lr 4.728708e-07 reg 1.495349e+07 train accuracy: 0.100265 val accuracy: 0.087000\n",
      "lr 4.728708e-07 reg 1.000000e+08 train accuracy: 0.100265 val accuracy: 0.087000\n",
      "lr 2.236068e-06 reg 5.000000e+04 train accuracy: 0.300918 val accuracy: 0.295000\n",
      "lr 2.236068e-06 reg 3.343702e+05 train accuracy: 0.229061 val accuracy: 0.258000\n",
      "lr 2.236068e-06 reg 2.236068e+06 train accuracy: 0.100265 val accuracy: 0.087000\n",
      "lr 2.236068e-06 reg 1.495349e+07 train accuracy: 0.100265 val accuracy: 0.087000\n",
      "lr 2.236068e-06 reg 1.000000e+08 train accuracy: 0.100265 val accuracy: 0.087000\n",
      "lr 1.057371e-05 reg 5.000000e+04 train accuracy: 0.126571 val accuracy: 0.118000\n",
      "lr 1.057371e-05 reg 3.343702e+05 train accuracy: 0.100265 val accuracy: 0.087000\n",
      "lr 1.057371e-05 reg 2.236068e+06 train accuracy: 0.100265 val accuracy: 0.087000\n",
      "lr 1.057371e-05 reg 1.495349e+07 train accuracy: 0.100265 val accuracy: 0.087000\n",
      "lr 1.057371e-05 reg 1.000000e+08 train accuracy: 0.100265 val accuracy: 0.087000\n",
      "lr 5.000000e-05 reg 5.000000e+04 train accuracy: 0.100265 val accuracy: 0.087000\n",
      "lr 5.000000e-05 reg 3.343702e+05 train accuracy: 0.100265 val accuracy: 0.087000\n",
      "lr 5.000000e-05 reg 2.236068e+06 train accuracy: 0.100265 val accuracy: 0.087000\n",
      "lr 5.000000e-05 reg 1.495349e+07 train accuracy: 0.100265 val accuracy: 0.087000\n",
      "lr 5.000000e-05 reg 1.000000e+08 train accuracy: 0.100265 val accuracy: 0.087000\n",
      "best validation accuracy achieved during cross-validation: 0.342000\n"
     ]
    }
   ],
   "source": [
    "# Use the validation set to tune hyperparameters (regularization strength and\n",
    "# learning rate). You should experiment with different ranges for the learning\n",
    "# rates and regularization strengths; if you are careful you should be able to\n",
    "# get a classification accuracy of over 0.35 on the validation set.\n",
    "from cs231n.classifiers import Softmax\n",
    "results = {}\n",
    "best_val = -1\n",
    "best_softmax = None\n",
    "learning_rates = np.logspace(np.log10(1e-7), np.log10(5e-5), num=5) #[1e-7, 5e-7]\n",
    "regularization_strengths = np.logspace(np.log10(5e4), np.log10(1e8), num=5) #[5e4, 1e8]\n",
    "\n",
    "################################################################################\n",
    "# TODO:                                                                        #\n",
    "# Use the validation set to set the learning rate and regularization strength. #\n",
    "# This should be identical to the validation that you did for the SVM; save    #\n",
    "# the best trained softmax classifer in best_softmax.                          #\n",
    "################################################################################\n",
    "for lr in learning_rates:\n",
    "    for reg in regularization_strengths:\n",
    "        sm = Softmax()\n",
    "        sm.train(X_train, y_train, learning_rate=lr, reg=reg, num_iters=1500, verbose=False)\n",
    "        acc_tr = np.mean(sm.predict(X_train) == y_train)\n",
    "        acc_va = np.mean(sm.predict(X_val) == y_val)\n",
    "        print (lr, reg), (acc_tr, acc_va)\n",
    "        results[(lr, reg)] = (acc_tr, acc_va)\n",
    "        if acc_va > best_val:\n",
    "            best_val = acc_va\n",
    "            best_softmax = sm\n",
    "################################################################################\n",
    "#                              END OF YOUR CODE                                #\n",
    "################################################################################\n",
    "    \n",
    "# Print out results.\n",
    "for lr, reg in sorted(results):\n",
    "    train_accuracy, val_accuracy = results[(lr, reg)]\n",
    "    print 'lr %e reg %e train accuracy: %f val accuracy: %f' % (\n",
    "                lr, reg, train_accuracy, val_accuracy)\n",
    "    \n",
    "print 'best validation accuracy achieved during cross-validation: %f' % best_val"
   ]
  },
  {
   "cell_type": "code",
   "execution_count": 10,
   "metadata": {
    "collapsed": false
   },
   "outputs": [
    {
     "name": "stdout",
     "output_type": "stream",
     "text": [
      "softmax on raw pixels final test set accuracy: 0.335000\n"
     ]
    }
   ],
   "source": [
    "# evaluate on test set\n",
    "# Evaluate the best softmax on test set\n",
    "y_test_pred = best_softmax.predict(X_test)\n",
    "test_accuracy = np.mean(y_test == y_test_pred)\n",
    "print 'softmax on raw pixels final test set accuracy: %f' % (test_accuracy, )"
   ]
  },
  {
   "cell_type": "code",
   "execution_count": 11,
   "metadata": {
    "collapsed": false
   },
   "outputs": [
    {
     "data": {
      "image/png": "[encoded data removed]",
      "text/plain": [
       "<matplotlib.figure.Figure at 0x10f4825d0>"
      ]
     },
     "metadata": {},
     "output_type": "display_data"
    }
   ],
   "source": [
    "# Visualize the learned weights for each class\n",
    "w = best_softmax.W[:-1,:] # strip out the bias\n",
    "w = w.reshape(32, 32, 3, 10)\n",
    "\n",
    "w_min, w_max = np.min(w), np.max(w)\n",
    "\n",
    "classes = ['plane', 'car', 'bird', 'cat', 'deer', 'dog', 'frog', 'horse', 'ship', 'truck']\n",
    "for i in xrange(10):\n",
    "  plt.subplot(2, 5, i + 1)\n",
    "  \n",
    "  # Rescale the weights to be between 0 and 255\n",
    "  wimg = 255.0 * (w[:, :, :, i].squeeze() - w_min) / (w_max - w_min)\n",
    "  plt.imshow(wimg.astype('uint8'))\n",
    "  plt.axis('off')\n",
    "  plt.title(classes[i])"
   ]
  },
  {
   "cell_type": "code",
   "execution_count": null,
   "metadata": {
    "collapsed": true
   },
   "outputs": [],
   "source": []
  }
 ],
 "metadata": {
  "kernelspec": {
   "display_name": "Python 2",
   "language": "python",
   "name": "python2"
  },
  "language_info": {
   "codemirror_mode": {
    "name": "ipython",
    "version": 2
   },
   "file_extension": ".py",
   "mimetype": "text/x-python",
   "name": "python",
   "nbconvert_exporter": "python",
   "pygments_lexer": "ipython2",
   "version": "2.7.13"
  }
 },
 "nbformat": 4,
 "nbformat_minor": 0
}
